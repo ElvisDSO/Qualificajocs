{
 "cells": [
  {
   "cell_type": "code",
   "execution_count": 1,
   "metadata": {},
   "outputs": [],
   "source": [
    "import networkx as nx\n",
    "import numpy as np\n",
    "import matplotlib.pyplot as plt\n",
    "import itertools\n",
    "\n",
    "from pandas import read_table\n",
    "%matplotlib inline"
   ]
  },
  {
   "cell_type": "code",
   "execution_count": 2,
   "metadata": {},
   "outputs": [
    {
     "name": "stderr",
     "output_type": "stream",
     "text": [
      "C:\\Users\\Elvis\\Anaconda3\\lib\\site-packages\\ipykernel_launcher.py:1: FutureWarning: read_table is deprecated, use read_csv instead.\n",
      "  \"\"\"Entry point for launching an IPython kernel.\n",
      "C:\\Users\\Elvis\\Anaconda3\\lib\\site-packages\\ipykernel_launcher.py:10: DeprecationWarning: \n",
      ".ix is deprecated. Please use\n",
      ".loc for label based indexing or\n",
      ".iloc for positional indexing\n",
      "\n",
      "See the documentation here:\n",
      "http://pandas.pydata.org/pandas-docs/stable/indexing.html#ix-indexer-is-deprecated\n",
      "  # Remove the CWD from sys.path while we load stuff.\n",
      "C:\\Users\\Elvis\\Anaconda3\\lib\\site-packages\\ipykernel_launcher.py:12: DeprecationWarning: \n",
      ".ix is deprecated. Please use\n",
      ".loc for label based indexing or\n",
      ".iloc for positional indexing\n",
      "\n",
      "See the documentation here:\n",
      "http://pandas.pydata.org/pandas-docs/stable/indexing.html#ix-indexer-is-deprecated\n",
      "  if sys.path[0] == '':\n",
      "C:\\Users\\Elvis\\Anaconda3\\lib\\site-packages\\ipykernel_launcher.py:20: DeprecationWarning: \n",
      ".ix is deprecated. Please use\n",
      ".loc for label based indexing or\n",
      ".iloc for positional indexing\n",
      "\n",
      "See the documentation here:\n",
      "http://pandas.pydata.org/pandas-docs/stable/indexing.html#ix-indexer-is-deprecated\n"
     ]
    }
   ],
   "source": [
    "items = read_table('uDos.item', header = None, sep = '|', encoding = 'ISO-8859-1')\n",
    "items.drop(2, axis = 1, inplace = True)\n",
    "items.columns = ['game','gamer']\n",
    "\n",
    "matrizDatos = np.zeros((2000,2000))\n",
    "jugadorInicial = 1\n",
    "jugadosPorUnJugador = []\n",
    "\n",
    "for i in range(10400):\n",
    "    jugadorActual = items.ix[i].gamer\n",
    "    if jugadorActual == jugadorInicial:\n",
    "        jugadosPorUnJugador.append(items.ix[i].game)\n",
    "    else:\n",
    "        jugadorInicial = jugadorActual\n",
    "        for i in jugadosPorUnJugador:\n",
    "            for j in jugadosPorUnJugador:\n",
    "                if not i == j:\n",
    "                    matrizDatos[i-1, j-1] += (1/(len(jugadosPorUnJugador)-1))\n",
    "        jugadosPorUnJugador.clear()\n",
    "        jugadosPorUnJugador.append(items.ix[i].game)"
   ]
  },
  {
   "cell_type": "code",
   "execution_count": 3,
   "metadata": {},
   "outputs": [
    {
     "name": "stdout",
     "output_type": "stream",
     "text": [
      "0.21052631578947367\n"
     ]
    }
   ],
   "source": [
    "maximo = 0\n",
    "coorI = 0\n",
    "coorJ = 0\n",
    "for i in range(2000):\n",
    "    for j in range(2000):\n",
    "        if matrizDatos[i][j] > maximo:\n",
    "            maximo = matrizDatos[i][j]\n",
    "            coorI = i\n",
    "            coorJ = j\n",
    "print(matrizDatos[coorI][coorJ])"
   ]
  },
  {
   "cell_type": "code",
   "execution_count": null,
   "metadata": {},
   "outputs": [],
   "source": []
  }
 ],
 "metadata": {
  "kernelspec": {
   "display_name": "Python 3",
   "language": "python",
   "name": "python3"
  },
  "language_info": {
   "codemirror_mode": {
    "name": "ipython",
    "version": 3
   },
   "file_extension": ".py",
   "mimetype": "text/x-python",
   "name": "python",
   "nbconvert_exporter": "python",
   "pygments_lexer": "ipython3",
   "version": "3.7.1"
  }
 },
 "nbformat": 4,
 "nbformat_minor": 2
}

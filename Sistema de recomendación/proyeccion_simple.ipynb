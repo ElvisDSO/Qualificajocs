{
 "cells": [
  {
   "cell_type": "code",
   "execution_count": 1,
   "metadata": {},
   "outputs": [],
   "source": [
    "import networkx as nx\n",
    "import numpy as np\n",
    "import matplotlib.pyplot as plt\n",
    "import itertools\n",
    "%matplotlib inline"
   ]
  },
  {
   "cell_type": "code",
   "execution_count": 10,
   "metadata": {},
   "outputs": [],
   "source": [
    "Grafo = nx.Graph()\n",
    "\n",
    "lista = list()\n",
    "for i in range(1, 2000):\n",
    "    lista.append(i)\n",
    "Grafo.add_nodes_from(lista)\n",
    "\n",
    "from pandas import read_table\n",
    "items = read_table('uDos.item', header=None,sep='|',encoding='ISO-8859-1')\n",
    "items.drop(2,axis=1, inplace=True)\n",
    "# name the columns\n",
    "items.columns = ['itemid','title']\n",
    "# show the first 5 rows of the dataframe\n",
    "items.ix[0].title"
   ]
  },
  {
   "cell_type": "code",
   "execution_count": null,
   "metadata": {},
   "outputs": [],
   "source": []
  }
 ],
 "metadata": {
  "kernelspec": {
   "display_name": "Python 3",
   "language": "python",
   "name": "python3"
  },
  "language_info": {
   "codemirror_mode": {
    "name": "ipython",
    "version": 3
   },
   "file_extension": ".py",
   "mimetype": "text/x-python",
   "name": "python",
   "nbconvert_exporter": "python",
   "pygments_lexer": "ipython3",
   "version": "3.7.3"
  }
 },
 "nbformat": 4,
 "nbformat_minor": 2
}

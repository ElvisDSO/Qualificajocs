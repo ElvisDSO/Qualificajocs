{
 "cells": [
  {
   "cell_type": "code",
   "execution_count": 1,
   "metadata": {},
   "outputs": [],
   "source": [
    "import numpy as np\n",
    "import matplotlib.pyplot as plt\n",
    "from scipy.optimize import minimize"
   ]
  },
  {
   "cell_type": "code",
   "execution_count": 2,
   "metadata": {},
   "outputs": [],
   "source": [
    "# This line is necessary to show matplotlib plots inside the jupyter notebook\n",
    "%matplotlib inline"
   ]
  },
  {
   "cell_type": "code",
   "execution_count": 3,
   "metadata": {},
   "outputs": [
    {
     "name": "stderr",
     "output_type": "stream",
     "text": [
      "C:\\Users\\Elvis\\Anaconda3\\lib\\site-packages\\ipykernel_launcher.py:4: FutureWarning: read_table is deprecated, use read_csv instead.\n",
      "  after removing the cwd from sys.path.\n",
      "C:\\Users\\Elvis\\Anaconda3\\lib\\site-packages\\ipykernel_launcher.py:10: DeprecationWarning: \n",
      ".ix is deprecated. Please use\n",
      ".loc for label based indexing or\n",
      ".iloc for positional indexing\n",
      "\n",
      "See the documentation here:\n",
      "http://pandas.pydata.org/pandas-docs/stable/indexing.html#ix-indexer-is-deprecated\n",
      "  # Remove the CWD from sys.path while we load stuff.\n"
     ]
    },
    {
     "data": {
      "text/plain": [
       "'Nombre_Videojuego_1'"
      ]
     },
     "execution_count": 3,
     "metadata": {},
     "output_type": "execute_result"
    }
   ],
   "source": [
    "# import pandas\n",
    "from pandas import read_table\n",
    "# read csv file\n",
    "items = read_table('u.item',header=None,sep='|',encoding='ISO-8859-1')\n",
    "# remove collumns 2-24\n",
    "items.drop(range(2,6),axis=1, inplace=True)\n",
    "# name the columns\n",
    "items.columns = ['itemid','title']\n",
    "# show the first 5 rows of the dataframe\n",
    "items.ix[0].title"
   ]
  },
  {
   "cell_type": "code",
   "execution_count": 4,
   "metadata": {},
   "outputs": [],
   "source": [
    "# show the name of the 25-th movie (remember, in python the index always starts from 0)\n",
    "#items.iloc[24]['name']"
   ]
  },
  {
   "cell_type": "code",
   "execution_count": 6,
   "metadata": {},
   "outputs": [
    {
     "ename": "ValueError",
     "evalue": "could not assign tuple of length 1 to structure with 3 fields.",
     "output_type": "error",
     "traceback": [
      "\u001b[1;31m---------------------------------------------------------------------------\u001b[0m",
      "\u001b[1;31mValueError\u001b[0m                                Traceback (most recent call last)",
      "\u001b[1;32m<ipython-input-6-85201382acac>\u001b[0m in \u001b[0;36m<module>\u001b[1;34m\u001b[0m\n\u001b[1;32m----> 1\u001b[1;33m \u001b[0mdata\u001b[0m \u001b[1;33m=\u001b[0m \u001b[0mnp\u001b[0m\u001b[1;33m.\u001b[0m\u001b[0mgenfromtxt\u001b[0m\u001b[1;33m(\u001b[0m\u001b[1;34m'lista_jugados_idVideojuego.data'\u001b[0m\u001b[1;33m,\u001b[0m\u001b[0mdtype\u001b[0m\u001b[1;33m=\u001b[0m\u001b[1;34m\"i8,i8,i8\"\u001b[0m\u001b[1;33m,\u001b[0m\u001b[0mnames\u001b[0m\u001b[1;33m=\u001b[0m\u001b[1;33m[\u001b[0m\u001b[1;34m'videojuego'\u001b[0m\u001b[1;33m,\u001b[0m\u001b[1;34m'usuario'\u001b[0m\u001b[1;33m,\u001b[0m\u001b[1;34m'rating'\u001b[0m\u001b[1;33m]\u001b[0m\u001b[1;33m,\u001b[0m\u001b[0mdelimiter\u001b[0m\u001b[1;33m=\u001b[0m\u001b[1;34m','\u001b[0m\u001b[1;33m)\u001b[0m\u001b[1;33m\u001b[0m\u001b[1;33m\u001b[0m\u001b[0m\n\u001b[0m",
      "\u001b[1;32m~\\Anaconda3\\lib\\site-packages\\numpy\\lib\\npyio.py\u001b[0m in \u001b[0;36mgenfromtxt\u001b[1;34m(fname, dtype, comments, delimiter, skip_header, skip_footer, converters, missing_values, filling_values, usecols, names, excludelist, deletechars, replace_space, autostrip, case_sensitive, defaultfmt, unpack, usemask, loose, invalid_raise, max_rows, encoding)\u001b[0m\n\u001b[0;32m   2163\u001b[0m                     \u001b[0moutput\u001b[0m \u001b[1;33m=\u001b[0m \u001b[0mnp\u001b[0m\u001b[1;33m.\u001b[0m\u001b[0marray\u001b[0m\u001b[1;33m(\u001b[0m\u001b[0mdata\u001b[0m\u001b[1;33m,\u001b[0m \u001b[0mdtype\u001b[0m\u001b[1;33m=\u001b[0m\u001b[0mdtype\u001b[0m\u001b[1;33m)\u001b[0m\u001b[1;33m\u001b[0m\u001b[1;33m\u001b[0m\u001b[0m\n\u001b[0;32m   2164\u001b[0m             \u001b[1;32melse\u001b[0m\u001b[1;33m:\u001b[0m\u001b[1;33m\u001b[0m\u001b[1;33m\u001b[0m\u001b[0m\n\u001b[1;32m-> 2165\u001b[1;33m                 \u001b[0mrows\u001b[0m \u001b[1;33m=\u001b[0m \u001b[0mnp\u001b[0m\u001b[1;33m.\u001b[0m\u001b[0marray\u001b[0m\u001b[1;33m(\u001b[0m\u001b[0mdata\u001b[0m\u001b[1;33m,\u001b[0m \u001b[0mdtype\u001b[0m\u001b[1;33m=\u001b[0m\u001b[1;33m[\u001b[0m\u001b[1;33m(\u001b[0m\u001b[1;34m''\u001b[0m\u001b[1;33m,\u001b[0m \u001b[0m_\u001b[0m\u001b[1;33m)\u001b[0m \u001b[1;32mfor\u001b[0m \u001b[0m_\u001b[0m \u001b[1;32min\u001b[0m \u001b[0mdtype_flat\u001b[0m\u001b[1;33m]\u001b[0m\u001b[1;33m)\u001b[0m\u001b[1;33m\u001b[0m\u001b[1;33m\u001b[0m\u001b[0m\n\u001b[0m\u001b[0;32m   2166\u001b[0m                 \u001b[0moutput\u001b[0m \u001b[1;33m=\u001b[0m \u001b[0mrows\u001b[0m\u001b[1;33m.\u001b[0m\u001b[0mview\u001b[0m\u001b[1;33m(\u001b[0m\u001b[0mdtype\u001b[0m\u001b[1;33m)\u001b[0m\u001b[1;33m\u001b[0m\u001b[1;33m\u001b[0m\u001b[0m\n\u001b[0;32m   2167\u001b[0m             \u001b[1;31m# Now, process the rowmasks the same way\u001b[0m\u001b[1;33m\u001b[0m\u001b[1;33m\u001b[0m\u001b[1;33m\u001b[0m\u001b[0m\n",
      "\u001b[1;31mValueError\u001b[0m: could not assign tuple of length 1 to structure with 3 fields."
     ]
    }
   ],
   "source": [
    "data = np.genfromtxt('lista_jugados_idVideojuego.data',dtype=\"i8,i8,i8\",names=['videojuego','usuario','rating'],delimiter='|')"
   ]
  },
  {
   "cell_type": "code",
   "execution_count": 31,
   "metadata": {},
   "outputs": [],
   "source": [
    "def cofiCostFunc (parameters, Y, R, n_users, n_videogames, n_features, lamb):\n",
    "    cost=0\n",
    "    gradient=np.zeros_like(parameters)\n",
    "    \n",
    "    X=np.reshape(parameters[0: n_videogames * n_features], (n_videogames, n_features) )\n",
    "    Theta=np.reshape(parameters[n_videogames * n_features : parameters.shape[0]] , (n_users,n_features))\n",
    "    J=(1/2)*sum(sum(np.power((X.dot(Theta.T)-Y),2)*R))   \n",
    "    cost=J + ((lamb/2) * sum(sum(np.power(X,2))))+((lamb/2) * sum(sum(np.power(Theta, 2))))\n",
    "    \n",
    "    X_gradient = (((X.dot(Theta.T))- Y) *R).dot(Theta) + X.dot(lamb)               \n",
    "    Theta_gradient = (((X.dot(Theta.T))-Y) * R).T.dot(X) + Theta.dot(lamb)\n",
    "    gradient=np.append(X_gradient,Theta_gradient)\n",
    "    \n",
    "    return (cost, gradient)"
   ]
  },
  {
   "cell_type": "code",
   "execution_count": 32,
   "metadata": {},
   "outputs": [],
   "source": [
    "Y=np.load('guardarY.npy')\n",
    "R=np.load('guardarR.npy')\n",
    "# Get dimensions: n_users and n_movies\n",
    "n_videogames=Y.shape[0];\n",
    "n_users=Y.shape[1];\n",
    "n_features = 100"
   ]
  },
  {
   "cell_type": "code",
   "execution_count": 33,
   "metadata": {},
   "outputs": [],
   "source": [
    "X=np.random.uniform(low=0,high=1,size=(n_videogames*n_features))\n",
    "Theta=np.random.uniform(low=0,high=1,size=(n_users*n_features))\n",
    "initial_parameters=np.append(X,Theta)"
   ]
  },
  {
   "cell_type": "code",
   "execution_count": 34,
   "metadata": {},
   "outputs": [],
   "source": [
    "usuarioNuevo=np.zeros((n_videogames, 1))\n",
    "usuarioParaRating=np.zeros((n_videogames, 1))"
   ]
  },
  {
   "cell_type": "code",
   "execution_count": 35,
   "metadata": {},
   "outputs": [],
   "source": [
    "usuarioNuevoVideojuegosJugados=[1,2,3,4,5,6,7,8,9,10]\n",
    "usuarioNuevoRating=[1,3,4,2,4,3,2,3,5,5]"
   ]
  },
  {
   "cell_type": "code",
   "execution_count": 36,
   "metadata": {},
   "outputs": [],
   "source": [
    "for i in range(0, len(usuarioNuevoVideojuegosJugados)):\n",
    "    usuarioNuevo[usuarioNuevoVideojuegosJugados[i]], usuarioParaRating[usuarioNuevoVideojuegosJugados[i]]=usuarioNuevoRating[i],1"
   ]
  },
  {
   "cell_type": "code",
   "execution_count": 37,
   "metadata": {},
   "outputs": [],
   "source": [
    "Y=np.append(Y, usuarioNuevo, axis=1)\n",
    "R=np.append(R, usuarioParaRating, axis=1)\n",
    "n_videogames=Y.shape[0]\n",
    "n_users=Y.shape[1]"
   ]
  },
  {
   "cell_type": "code",
   "execution_count": 38,
   "metadata": {},
   "outputs": [],
   "source": [
    "X=np.random.uniform(low=0,high=1,size=(n_videogames*n_features))\n",
    "Theta=np.random.uniform(low=0,high=1,size=(n_users*n_features))\n",
    "initial_parameters=np.append(X,Theta)"
   ]
  },
  {
   "cell_type": "code",
   "execution_count": 39,
   "metadata": {},
   "outputs": [],
   "source": [
    "lamb = 1.5\n",
    "def cofiCostFunc_minimize(parameters):\n",
    "    return cofiCostFunc(parameters,Y, R, n_users, n_videogames, n_features,lamb)\n",
    "max_iter=100"
   ]
  },
  {
   "cell_type": "code",
   "execution_count": 40,
   "metadata": {},
   "outputs": [
    {
     "name": "stdout",
     "output_type": "stream",
     "text": [
      "Warning: Maximum number of iterations has been exceeded.\n",
      "         Current function value: 17961.545171\n",
      "         Iterations: 100\n",
      "         Function evaluations: 152\n",
      "         Gradient evaluations: 152\n"
     ]
    }
   ],
   "source": [
    "# Minimize the function using minimize from the package scipy.optimize and get the optimized parameters\n",
    "parameters = (minimize(cofiCostFunc_minimize,initial_parameters,method=\"CG\",jac=True,\n",
    "                   options={'maxiter':max_iter, \"disp\":True})).x"
   ]
  },
  {
   "cell_type": "code",
   "execution_count": 41,
   "metadata": {},
   "outputs": [],
   "source": [
    "vectX=parameters[0:((n_videogames*n_features))];\n",
    "vectT=parameters[(n_videogames*n_features):(len(parameters))];  \n",
    "X=vectX.reshape(n_videogames,n_features);\n",
    "Theta=vectT.reshape(n_users,n_features);\n",
    "\n",
    "\n",
    "#Multiplicación matricial de la X y la traspuesta de la T\n",
    "predicciones=np.dot(X,Theta.T);"
   ]
  },
  {
   "cell_type": "code",
   "execution_count": 42,
   "metadata": {},
   "outputs": [],
   "source": [
    "indiceUsuarioNuevo=len(Y[0])-1\n",
    "videojuegosNoJugadosUsuarioNuevo=np.where(R[:, indiceUsuarioNuevo]==0)\n",
    "top10videojuegos=np.fliplr(np.sort(predicciones[videojuegosNoJugadosUsuarioNuevo,indiceUsuarioNuevo]))\n",
    "posicionesMejoresJuegos=list()\n",
    "top10UsuarioNuevo=top10videojuegos[0][0:10]\n",
    "\n",
    "for i in range(0, len(top10UsuarioNuevo)):\n",
    "    valoracion=np.where(predicciones==top10UsuarioNuevo[i])\n",
    "    posicionesMejoresJuegos.append(valoracion[0][0])"
   ]
  },
  {
   "cell_type": "code",
   "execution_count": 47,
   "metadata": {},
   "outputs": [
    {
     "name": "stdout",
     "output_type": "stream",
     "text": [
      "Top 10 lista UsuarioNuevo \n",
      " \n",
      "\n",
      "Nombre_Videojuego_316\n",
      "Nombre_Videojuego_287\n",
      "Nombre_Videojuego_270\n",
      "Nombre_Videojuego_1326\n",
      "Nombre_Videojuego_214\n",
      "Nombre_Videojuego_321\n",
      "Nombre_Videojuego_515\n",
      "Nombre_Videojuego_660\n",
      "Nombre_Videojuego_491\n",
      "Nombre_Videojuego_665\n"
     ]
    },
    {
     "name": "stderr",
     "output_type": "stream",
     "text": [
      "C:\\Users\\Elvis\\Anaconda3\\lib\\site-packages\\ipykernel_launcher.py:3: DeprecationWarning: \n",
      ".ix is deprecated. Please use\n",
      ".loc for label based indexing or\n",
      ".iloc for positional indexing\n",
      "\n",
      "See the documentation here:\n",
      "http://pandas.pydata.org/pandas-docs/stable/indexing.html#ix-indexer-is-deprecated\n",
      "  This is separate from the ipykernel package so we can avoid doing imports until\n"
     ]
    }
   ],
   "source": [
    "print(\"Top 10 lista UsuarioNuevo \\n \\n\" )\n",
    "for i in range(0,len(posicionesMejoresJuegos)):\n",
    "    print(items.ix[posicionesMejoresJuegos[i]+1].title)\n",
    "    \n",
    "for i in range(0,len(posicionesMejoresJuegos)):\n",
    "    print(items.ix[posicionesMejoresJuegos[i]+1].itemid)\n",
    "    #items.ix[items.ix[posicionesMejoresJuegos[i]+1].name].title\n",
    "    #print(str(i+1) + \" \"  + items.ix[posicionesMejoresJuegos[i]+1].name) "
   ]
  },
  {
   "cell_type": "code",
   "execution_count": 49,
   "metadata": {},
   "outputs": [],
   "source": [
    "usuarioSin = np.zeros((n_videogames,1))\n",
    "usuarioSinRating = np.zeros((n_videogames, 1))\n",
    "Y = np.append(Y, usuarioSin, axis = 1)\n",
    "R = np.append(R, usuarioSinRating, axis = 1)\n",
    "n_videogames = Y.shape[0]\n",
    "n_users = Y.shape[1]\n",
    "\n",
    "X = np.random.uniform(low = 0, high = 1, size = (n_videogames * n_features))\n",
    "Theta = np.random.uniform(low = 0, high = 1, size = (n_users * n_features))\n",
    "initial_parameters = np.append(X, Theta)\n",
    "lamb = 1.5"
   ]
  },
  {
   "cell_type": "code",
   "execution_count": 50,
   "metadata": {},
   "outputs": [],
   "source": [
    "def cofiCostFunc_minimize(parameters):\n",
    "    return cofiCostFunc(parameters, Y, R, n_users, n_videogames, n_features, lamb)"
   ]
  },
  {
   "cell_type": "code",
   "execution_count": 53,
   "metadata": {},
   "outputs": [
    {
     "name": "stdout",
     "output_type": "stream",
     "text": [
      "Warning: Maximum number of iterations has been exceeded.\n",
      "         Current function value: 17499.627429\n",
      "         Iterations: 90\n",
      "         Function evaluations: 136\n",
      "         Gradient evaluations: 136\n"
     ]
    }
   ],
   "source": [
    "max_iter = 90\n",
    "parameters = (minimize(cofiCostFunc_minimize, initial_parameters, method = \"CG\", jac = True,\n",
    "                       options = {'maxiter': max_iter, \"disp\": True})).x\n",
    "\n",
    "vectX = parameters[0: ((n_videogames * n_features))];\n",
    "vectT = parameters[(n_videogames * n_features): (len(parameters))];  \n",
    "X = vectX.reshape(n_videogames, n_features);\n",
    "Theta = vectT.reshape(n_users, n_features);\n",
    "predicciones = np.dot(X, Theta.T);\n",
    "\n",
    "indiceUsuarioNuevoSin = len(Y[0]) - 1\n",
    "juegosNoVistosUsuarioNuevoSin = np.where(R[:, indiceUsuarioNuevoSin] == 0)\n",
    "top10juegos = np.fliplr(np.sort(predicciones[juegosNoVistosUsuarioNuevoSin, indiceUsuarioNuevoSin]))\n",
    "posicionesMejoresJuegosSin = list()\n",
    "top10UsuarioNuevo = top10juegos[0][0:10]"
   ]
  },
  {
   "cell_type": "code",
   "execution_count": 54,
   "metadata": {},
   "outputs": [
    {
     "name": "stdout",
     "output_type": "stream",
     "text": [
      "Top 10 lista UsuarioNuevo Sin Rankings\n",
      " \n",
      "\n",
      "1 Nombre_Videojuego_319\n",
      "2 Nombre_Videojuego_273\n",
      "3 Nombre_Videojuego_198\n",
      "4 Nombre_Videojuego_314\n",
      "5 Nombre_Videojuego_192\n",
      "6 Nombre_Videojuego_529\n",
      "7 Nombre_Videojuego_604\n",
      "8 Nombre_Videojuego_137\n",
      "9 Nombre_Videojuego_13\n",
      "10 Nombre_Videojuego_511\n"
     ]
    },
    {
     "name": "stderr",
     "output_type": "stream",
     "text": [
      "C:\\Users\\Elvis\\Anaconda3\\lib\\site-packages\\ipykernel_launcher.py:7: DeprecationWarning: \n",
      ".ix is deprecated. Please use\n",
      ".loc for label based indexing or\n",
      ".iloc for positional indexing\n",
      "\n",
      "See the documentation here:\n",
      "http://pandas.pydata.org/pandas-docs/stable/indexing.html#ix-indexer-is-deprecated\n",
      "  import sys\n"
     ]
    }
   ],
   "source": [
    "for i in range(0, len(top10UsuarioNuevo)):\n",
    "    valoracionSin = np.where(predicciones == top10UsuarioNuevo[i])\n",
    "    posicionesMejoresPelisSin.append(valoracionSin[0][0])\n",
    "\n",
    "print(\"Top 10 lista UsuarioNuevo Sin Rankings\\n \\n\" )\n",
    "for i in range(0, len(posicionesMejoresPelisSin)):\n",
    "    print(str(i + 1) + \" \"  + items.ix[posicionesMejoresPelisSin[i] + 1].title) "
   ]
  },
  {
   "cell_type": "code",
   "execution_count": null,
   "metadata": {},
   "outputs": [],
   "source": []
  }
 ],
 "metadata": {
  "kernelspec": {
   "display_name": "Python 3",
   "language": "python",
   "name": "python3"
  },
  "language_info": {
   "codemirror_mode": {
    "name": "ipython",
    "version": 3
   },
   "file_extension": ".py",
   "mimetype": "text/x-python",
   "name": "python",
   "nbconvert_exporter": "python",
   "pygments_lexer": "ipython3",
   "version": "3.7.3"
  }
 },
 "nbformat": 4,
 "nbformat_minor": 2
}

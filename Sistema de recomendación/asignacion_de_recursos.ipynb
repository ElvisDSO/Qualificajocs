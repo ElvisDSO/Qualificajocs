{
 "cells": [
  {
   "cell_type": "code",
   "execution_count": 1,
   "metadata": {},
   "outputs": [],
   "source": [
    "import networkx as nx\n",
    "import numpy as np\n",
    "import matplotlib.pyplot as plt\n",
    "import itertools\n",
    "\n",
    "from pandas import read_table\n",
    "%matplotlib inline"
   ]
  },
  {
   "cell_type": "code",
   "execution_count": 9,
   "metadata": {},
   "outputs": [
    {
     "name": "stderr",
     "output_type": "stream",
     "text": [
      "C:\\Users\\Elvis\\Anaconda3\\lib\\site-packages\\ipykernel_launcher.py:1: FutureWarning: read_table is deprecated, use read_csv instead.\n",
      "  \"\"\"Entry point for launching an IPython kernel.\n",
      "C:\\Users\\Elvis\\Anaconda3\\lib\\site-packages\\ipykernel_launcher.py:7: DeprecationWarning: \n",
      ".ix is deprecated. Please use\n",
      ".loc for label based indexing or\n",
      ".iloc for positional indexing\n",
      "\n",
      "See the documentation here:\n",
      "http://pandas.pydata.org/pandas-docs/stable/indexing.html#ix-indexer-is-deprecated\n",
      "  import sys\n",
      "C:\\Users\\Elvis\\Anaconda3\\lib\\site-packages\\ipykernel_launcher.py:8: DeprecationWarning: \n",
      ".ix is deprecated. Please use\n",
      ".loc for label based indexing or\n",
      ".iloc for positional indexing\n",
      "\n",
      "See the documentation here:\n",
      "http://pandas.pydata.org/pandas-docs/stable/indexing.html#ix-indexer-is-deprecated\n",
      "  \n"
     ]
    }
   ],
   "source": [
    "items = read_table('u.data', header = None, sep = ',', encoding = 'ISO-8859-1')\n",
    "items.drop(2, axis = 1, inplace = True)\n",
    "items.columns = ['game','gamer']\n",
    "\n",
    "matrizDatos = np.zeros((2000,500))\n",
    "for i in range(10400):\n",
    "    posicionX = items.ix[i].game\n",
    "    posicionY = items.ix[i].gamer\n",
    "    matrizDatos[posicionX-1][posicionY-1] = 1\n",
    "\n",
    "listaDivColumna = np.zeros((2000))\n",
    "for i in range(2000):\n",
    "    cantColumna = 0\n",
    "    for j in range(500):\n",
    "        if matrizDatos[i][j] == 1:\n",
    "            cantColumna += 1\n",
    "    listaDivColumna[i] = cantColumna\n",
    "    \n",
    "listaDivFila = np.zeros((500))\n",
    "for i in range(500):\n",
    "    cantFila = 0\n",
    "    for j in range(2000):\n",
    "        if matrizDatos[j][i] > 0:\n",
    "            cantFila +=1\n",
    "    listaDivFila[i] = cantFila\n",
    "\n",
    "matrizRecomendacion = np.zeros((2000,2000))\n",
    "desplazaColumna = 0\n",
    "for i in range(500):\n",
    "    if matrizDatos[desplazaColumna][i] == 1:\n",
    "        for j in range(2000):\n",
    "            if matrizDatos[j][i] == 1:\n",
    "                matrizRecomendacion[desplazaColumna][j] = ((1/listaDivColumna[j])/listaDivFila[i])\n",
    "    desplazaColumna +=1"
   ]
  },
  {
   "cell_type": "code",
   "execution_count": 14,
   "metadata": {},
   "outputs": [
    {
     "name": "stdout",
     "output_type": "stream",
     "text": [
      "0.008333333333333333\n"
     ]
    }
   ],
   "source": [
    "maximo = 0\n",
    "coorI = 0\n",
    "coorJ = 0\n",
    "for i in range(2000):\n",
    "    for j in range(2000):\n",
    "        if matrizRecomendacion[i][j] > maximo:\n",
    "            maximo = matrizDatos[i][j]\n",
    "            coorI = i\n",
    "            coorJ = j\n",
    "print(matrizRecomendacion[coorI][coorJ])"
   ]
  },
  {
   "cell_type": "code",
   "execution_count": null,
   "metadata": {},
   "outputs": [],
   "source": []
  }
 ],
 "metadata": {
  "kernelspec": {
   "display_name": "Python 3",
   "language": "python",
   "name": "python3"
  },
  "language_info": {
   "codemirror_mode": {
    "name": "ipython",
    "version": 3
   },
   "file_extension": ".py",
   "mimetype": "text/x-python",
   "name": "python",
   "nbconvert_exporter": "python",
   "pygments_lexer": "ipython3",
   "version": "3.7.3"
  }
 },
 "nbformat": 4,
 "nbformat_minor": 2
}
